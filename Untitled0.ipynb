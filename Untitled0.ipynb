{
  "nbformat": 4,
  "nbformat_minor": 0,
  "metadata": {
    "colab": {
      "name": "Untitled0.ipynb",
      "provenance": []
    },
    "kernelspec": {
      "name": "python3",
      "display_name": "Python 3"
    },
    "language_info": {
      "name": "python"
    }
  },
  "cells": [
    {
      "cell_type": "code",
      "metadata": {
        "colab": {
          "base_uri": "https://localhost:8080/"
        },
        "id": "LPl2ajdDIDYF",
        "outputId": "1611a831-8139-4484-bf8e-cec273007045"
      },
      "source": [
        "print(\"test\");"
      ],
      "execution_count": null,
      "outputs": [
        {
          "output_type": "stream",
          "name": "stdout",
          "text": [
            "test\n"
          ]
        }
      ]
    },
    {
      "cell_type": "code",
      "metadata": {
        "id": "tooSNWTgIQ3y",
        "colab": {
          "base_uri": "https://localhost:8080/"
        },
        "outputId": "ec92596c-1cf0-4084-e269-25c177291e92"
      },
      "source": [
        "print(\"Hello world\")"
      ],
      "execution_count": null,
      "outputs": [
        {
          "output_type": "stream",
          "name": "stdout",
          "text": [
            "Hello world\n"
          ]
        }
      ]
    },
    {
      "cell_type": "code",
      "metadata": {
        "colab": {
          "base_uri": "https://localhost:8080/"
        },
        "id": "FyUTz_e9ItUR",
        "outputId": "adbbc57b-d10a-4920-eba9-f23296fe1d16"
      },
      "source": [
        "print(\"test\")"
      ],
      "execution_count": null,
      "outputs": [
        {
          "output_type": "stream",
          "name": "stdout",
          "text": [
            "test\n"
          ]
        }
      ]
    },
    {
      "cell_type": "code",
      "metadata": {
        "id": "KfNcEM6nKq1W"
      },
      "source": [
        "dict1 = [\"Daniel\", \"James\", 100, {\"Animal\":\"girrafe\"}]\n",
        "lis = [\"James\", \"David\", \"Warto\", \"William\", \"John\"]"
      ],
      "execution_count": 1,
      "outputs": []
    },
    {
      "cell_type": "code",
      "metadata": {
        "colab": {
          "base_uri": "https://localhost:8080/",
          "height": 35
        },
        "id": "wlAOSciSLABT",
        "outputId": "d2dc3fd3-c018-4d53-a124-7e80774b81d4"
      },
      "source": [
        "dict1[-1][\"Animal\"] #hanya menampilkan girrafe saja, jika kita hanya [-1], tampilan nya seperti \"{'Animal' : 'girrafe'}\""
      ],
      "execution_count": 2,
      "outputs": [
        {
          "output_type": "execute_result",
          "data": {
            "application/vnd.google.colaboratory.intrinsic+json": {
              "type": "string"
            },
            "text/plain": [
              "'girrafe'"
            ]
          },
          "metadata": {},
          "execution_count": 2
        }
      ]
    },
    {
      "cell_type": "code",
      "metadata": {
        "colab": {
          "base_uri": "https://localhost:8080/"
        },
        "id": "9SWn_9CGOn0a",
        "outputId": "c878a18d-7714-4e63-e72b-0a030c1a18d3"
      },
      "source": [
        "lis[0:5] #tampilannya hanya 0 - 5, jika is[2:5], tampilannya akan menjadi ['Warto', 'William', 'John']"
      ],
      "execution_count": 3,
      "outputs": [
        {
          "output_type": "execute_result",
          "data": {
            "text/plain": [
              "['James', 'David', 'Warto', 'William', 'John']"
            ]
          },
          "metadata": {},
          "execution_count": 3
        }
      ]
    }
  ]
}