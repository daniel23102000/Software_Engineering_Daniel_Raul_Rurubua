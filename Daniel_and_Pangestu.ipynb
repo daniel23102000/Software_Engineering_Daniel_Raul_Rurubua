{
  "nbformat": 4,
  "nbformat_minor": 0,
  "metadata": {
    "colab": {
      "name": "Daniel and Pangestu.ipynb",
      "provenance": []
    },
    "kernelspec": {
      "name": "python3",
      "display_name": "Python 3"
    },
    "language_info": {
      "name": "python"
    }
  },
  "cells": [
    {
      "cell_type": "code",
      "metadata": {
        "colab": {
          "base_uri": "https://localhost:8080/"
        },
        "id": "RtMd-5217nhN",
        "outputId": "2bdf85ee-ecfa-4a44-c954-341c7056687c"
      },
      "source": [
        "a = int(input('Masukkan nilai a: ')) #variable a, b, c sama dengan int, tanpa kita tulis int, program tidak akan bisa baca, akan terus menurus \"C yang terbesar\", walaupum A atau B yang terbesar\n",
        "b = int(input('Masukkan nilai b: '))#(input()) untuk input data\n",
        "c = int(input('Masukkan nilai c: '))\n",
        "\n",
        "if a > b and a > c: #if a lebih besar dari b dan a lebih besar dari c\n",
        "  print('A yang terbesar')\n",
        "elif b > a and b > c:\n",
        "  print('B yang terbesar')\n",
        "else:\n",
        "  print('C yang terbesar') #jika a dan b sama-sama tidak lebih besar atau sama-sama kecil, makanya otomatis ke Else yaitu \"C yang lebih besar\""
      ],
      "execution_count": 4,
      "outputs": [
        {
          "output_type": "stream",
          "name": "stdout",
          "text": [
            "Masukkan nilai a: 20\n",
            "Masukkan nilai b: 30\n",
            "Masukkan nilai c: 10\n",
            "B yang terbesar\n"
          ]
        }
      ]
    }
  ]
}